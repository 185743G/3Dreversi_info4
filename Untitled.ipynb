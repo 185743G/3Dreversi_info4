{
 "cells": [
  {
   "cell_type": "code",
   "execution_count": 1,
   "metadata": {},
   "outputs": [],
   "source": [
    "import chainer\n",
    "\n",
    "from chainer import Function, gradient_check, Variable, optimizers, serializers, utils\n",
    "import chainer.functions as F  # Functionは、パラメータを持たない関数です。\n",
    "import chainer.links as L  # links パラメーターを持つ関数\n",
    "import numpy as np\n",
    "import random\n",
    "\n",
    "\n",
    "class MLP(chainer.Chain):\n",
    "    # L.linear(input_dim_num, out_dim_num) 全結合層\n",
    "    def __init__(self, n_in, n_units, n_out):\n",
    "        super(MLP, self).__init__(\n",
    "            l1=L.Linear(n_in, n_units),  # first layer\n",
    "            l2=L.Linear(n_units, n_units),  # second layer\n",
    "            l3=L.Linear(n_units, n_units),  # Third layer\n",
    "            l4=L.Linear(n_units, n_out),  # output layer\n",
    "        )\n",
    "\n",
    "    \"\"\"\n",
    "    mean squad error = 二乗誤差\n",
    "    leaky relu : reluの一つ\n",
    "    L -> F -> L\n",
    "    \"\"\"\n",
    "\n",
    "    def __call__(self, x, t=None, train=False):\n",
    "        h = F.leaky_relu(self.l1(x))\n",
    "        h = F.leaky_relu(self.l2(h))\n",
    "        h = F.leaky_relu(self.l3(h))\n",
    "        h = self.l4(h)\n",
    "\n",
    "        if train:\n",
    "            return F.mean_squared_error(h, t)\n",
    "        else:\n",
    "            return h\n",
    "\n",
    "    def get(self, x):\n",
    "        # input x as float, output float\n",
    "        return self.predict(Variable(np.array([x]).astype(np.float32).reshape(1, 1))).data[0][0]\n",
    "\n",
    "\n",
    "\n",
    "# model = MLP(12, 20, 12)\n",
    "\n",
    "# optimizer = optimizers.SGD()\n",
    "# optimizer.setup(model)\n",
    "\n",
    "# for _ in range(100):\n",
    "#     for j in range(100):\n",
    "#         x = np.array([[random.random() for i in range(12)]], dtype=np.float32)\n",
    "#         t = x+1.0\n",
    "#         loss = model(x, t, train=True)\n",
    "#         model.cleargrads()\n",
    "#         loss.backward()\n",
    "#         optimizer.update()\n",
    "#         pred = model(x)\n",
    "#         print(loss)\n",
    "\n",
    "\n"
   ]
  },
  {
   "cell_type": "code",
   "execution_count": 2,
   "metadata": {},
   "outputs": [
    {
     "name": "stdout",
     "output_type": "stream",
     "text": [
      "<__main__.History object at 0x7ff4e1d486d8>\n"
     ]
    }
   ],
   "source": [
    "import pickle\n",
    "import copy\n",
    "import random\n",
    "import sqlite3\n",
    "\n",
    "\n",
    "from Board import Board\n",
    "from Constants import WHITE, BLACK, EMPTY\n",
    "from RandomPlayer import RandomPlayer\n",
    "from Util import get_opponent\n",
    "import pickle\n",
    "\n",
    "class History(object):\n",
    "    def __init__(self):\n",
    "        self.gameResults = []\n",
    "\n",
    "    def addGameResults(self, gameResult):\n",
    "        self.gameResults.append(gameResult)\n",
    "\n",
    "    def setGameResults(self, gameResults):\n",
    "        self.gameResults = gameResults\n",
    "\n",
    "\n",
    "class GameResult(object):\n",
    "    def __init__(self, s, a, r, s2, t):\n",
    "        self.s = s\n",
    "        self.a = a\n",
    "        self.r = r\n",
    "        self.s2 = s2\n",
    "        self.t = t\n",
    "\n",
    "with open('history.pickle', 'rb') as f:\n",
    "    history_p = pickle.load(f)\n",
    "\n",
    "print(history_p)"
   ]
  },
  {
   "cell_type": "code",
   "execution_count": 6,
   "metadata": {},
   "outputs": [
    {
     "ename": "AttributeError",
     "evalue": "'History' object has no attribute 'gemeResults'",
     "output_type": "error",
     "traceback": [
      "\u001b[0;31m---------------------------------------------------------------------------\u001b[0m",
      "\u001b[0;31mAttributeError\u001b[0m                            Traceback (most recent call last)",
      "\u001b[0;32m<ipython-input-6-d952f8a70cd4>\u001b[0m in \u001b[0;36m<module>\u001b[0;34m\u001b[0m\n\u001b[1;32m     11\u001b[0m \u001b[0moptimizer\u001b[0m\u001b[0;34m.\u001b[0m\u001b[0msetup\u001b[0m\u001b[0;34m(\u001b[0m\u001b[0mmodel\u001b[0m\u001b[0;34m)\u001b[0m\u001b[0;34m\u001b[0m\u001b[0;34m\u001b[0m\u001b[0m\n\u001b[1;32m     12\u001b[0m \u001b[0;34m\u001b[0m\u001b[0m\n\u001b[0;32m---> 13\u001b[0;31m \u001b[0;32mfor\u001b[0m \u001b[0mgameResult\u001b[0m \u001b[0;32min\u001b[0m \u001b[0mhistory_p\u001b[0m\u001b[0;34m.\u001b[0m\u001b[0mgemeResults\u001b[0m\u001b[0;34m[\u001b[0m\u001b[0;36m0\u001b[0m\u001b[0;34m:\u001b[0m\u001b[0;36m5\u001b[0m\u001b[0;34m]\u001b[0m\u001b[0;34m:\u001b[0m\u001b[0;34m\u001b[0m\u001b[0;34m\u001b[0m\u001b[0m\n\u001b[0m\u001b[1;32m     14\u001b[0m     \u001b[0ms\u001b[0m \u001b[0;34m=\u001b[0m \u001b[0mgameResult\u001b[0m\u001b[0;34m[\u001b[0m\u001b[0;36m0\u001b[0m\u001b[0;34m]\u001b[0m\u001b[0;34m\u001b[0m\u001b[0;34m\u001b[0m\u001b[0m\n\u001b[1;32m     15\u001b[0m     \u001b[0ma\u001b[0m \u001b[0;34m=\u001b[0m \u001b[0mgameResult\u001b[0m\u001b[0;34m[\u001b[0m\u001b[0;36m1\u001b[0m\u001b[0;34m]\u001b[0m\u001b[0;34m\u001b[0m\u001b[0;34m\u001b[0m\u001b[0m\n",
      "\u001b[0;31mAttributeError\u001b[0m: 'History' object has no attribute 'gemeResults'"
     ]
    }
   ],
   "source": [
    "# モデルは盤面状態を入力に、全てのマスについて置いたときのそれぞれのQ値を出力する\n",
    "        \n",
    "# Q.valueで次の状態のQ値をかえす\n",
    "# 目的 : 現在の盤面の状態を入力値に、maxQnew + rewardのデータを対応するインデックスに反映させたデータを得る\n",
    "# maxQnew = s2をモデルにいれ、出力の最大値を得る\n",
    "\n",
    "# print(\"hogee\")\n",
    "\n",
    "model = MLP(216, 260, 216)\n",
    "optimizer = optimizers.SGD()\n",
    "optimizer.setup(model)\n",
    "\n",
    "for gameResult in history_p.gameResults[0:5]:\n",
    "    s = gameResult[0]\n",
    "    a = gameResult[1]\n",
    "    r = gameResult[2]\n",
    "    s2 = gameResult[3]\n",
    "    t = gameResult[4]\n",
    "    \n",
    "    s2_Qs = model(x)\n",
    "    print(s2_Qs)\n",
    "#     loss = model(s,)\n",
    "    "
   ]
  },
  {
   "cell_type": "code",
   "execution_count": 5,
   "metadata": {},
   "outputs": [
    {
     "data": {
      "text/plain": [
       "[1, 3]"
      ]
     },
     "execution_count": 5,
     "metadata": {},
     "output_type": "execute_result"
    }
   ],
   "source": [
    "hoge = [1, 3, 4, 4]\n",
    "hoge[0:2]"
   ]
  },
  {
   "cell_type": "code",
   "execution_count": null,
   "metadata": {},
   "outputs": [],
   "source": []
  }
 ],
 "metadata": {
  "kernelspec": {
   "display_name": "Python 3",
   "language": "python",
   "name": "python3"
  },
  "language_info": {
   "codemirror_mode": {
    "name": "ipython",
    "version": 3
   },
   "file_extension": ".py",
   "mimetype": "text/x-python",
   "name": "python",
   "nbconvert_exporter": "python",
   "pygments_lexer": "ipython3",
   "version": "3.7.1"
  }
 },
 "nbformat": 4,
 "nbformat_minor": 2
}
