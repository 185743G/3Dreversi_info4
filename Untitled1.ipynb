{
 "cells": [
  {
   "cell_type": "code",
   "execution_count": 7,
   "metadata": {},
   "outputs": [],
   "source": [
    "import chainer\n",
    "from chainer import serializers\n",
    "\n",
    "from chainer import Function, gradient_check, Variable, optimizers, serializers, utils\n",
    "import chainer.functions as F  # Functionは、パラメータを持たない関数です。\n",
    "import chainer.links as L  # links パラメーターを持つ関数\n",
    "import numpy as np\n",
    "import random\n",
    "from History import History\n",
    "from GameResult import GameResult\n",
    "from MLP import MLP\n",
    "\n",
    "\n",
    "\n",
    "model = MLP(216, 260, 216)\n",
    "\n",
    "serializers.load_npz(\"mymodel.npz\", model)\n",
    "\n"
   ]
  },
  {
   "cell_type": "code",
   "execution_count": 8,
   "metadata": {},
   "outputs": [],
   "source": [
    "import pickle\n",
    "\n",
    "with open('history.pickle', 'rb') as f:\n",
    "    history_p = pickle.load(f)\n",
    "\n",
    "\n",
    "    \n"
   ]
  },
  {
   "cell_type": "code",
   "execution_count": 13,
   "metadata": {},
   "outputs": [
    {
     "name": "stdout",
     "output_type": "stream",
     "text": [
      "91\n",
      "56\n"
     ]
    }
   ],
   "source": [
    "gameResult = history_p.gameResults[0] \n",
    "s = gameResult.s \n",
    "a = gameResult.a\n",
    "s2 = gameResult.s2\n",
    "\n",
    "s = np.array([s], dtype=np.float32).astype(np.float32)  # データ\n",
    "pred = model(s)\n",
    "i = np.argmax(pred.data[0]) \n",
    "\n",
    "\n",
    "print(a)\n",
    "print(i)\n",
    "\n"
   ]
  },
  {
   "cell_type": "code",
   "execution_count": null,
   "metadata": {},
   "outputs": [],
   "source": []
  }
 ],
 "metadata": {
  "kernelspec": {
   "display_name": "Python 3",
   "language": "python",
   "name": "python3"
  },
  "language_info": {
   "codemirror_mode": {
    "name": "ipython",
    "version": 3
   },
   "file_extension": ".py",
   "mimetype": "text/x-python",
   "name": "python",
   "nbconvert_exporter": "python",
   "pygments_lexer": "ipython3",
   "version": "3.7.1"
  }
 },
 "nbformat": 4,
 "nbformat_minor": 5
}
